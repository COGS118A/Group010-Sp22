{
 "cells": [
  {
   "cell_type": "markdown",
   "metadata": {},
   "source": [
    "# Testing models"
   ]
  },
  {
   "cell_type": "code",
   "execution_count": 1,
   "metadata": {},
   "outputs": [],
   "source": [
    "# import pandas & numpy library\n",
    "import pandas as pd\n",
    "import numpy as np\n",
    "\n",
    "# imoprt seaborn & matplotlib\n",
    "import seaborn as sns\n",
    "import matplotlib.pyplot as plt\n",
    "\n",
    "# import KNN from sklearn\n",
    "from sklearn.neighbors import KDTree\n",
    "\n",
    "# shows a bigger plot size for readability \n",
    "plt.rcParams['figure.figsize'] = (12, 5)\n",
    "#improve resolution\n",
    "%config InlineBackend.figure_format ='retina'\n",
    "\n",
    "\n",
    "from sklearn.preprocessing import StandardScaler\n",
    "from sklearn.linear_model import LogisticRegression\n",
    "from sklearn.pipeline import Pipeline\n",
    "from sklearn.impute import SimpleImputer\n",
    "from sklearn.model_selection import GridSearchCV, train_test_split\n",
    "from sklearn.metrics import plot_confusion_matrix, f1_score, confusion_matrix"
   ]
  },
  {
   "cell_type": "code",
   "execution_count": 2,
   "metadata": {},
   "outputs": [
    {
     "name": "stderr",
     "output_type": "stream",
     "text": [
      "C:\\Users\\David Soberanis\\AppData\\Local\\Temp\\ipykernel_1748\\3079004086.py:2: DtypeWarning: Columns (11,18) have mixed types. Specify dtype option on import or set low_memory=False.\n",
      "  music = pd.read_csv('songDb.tsv', sep='\\t', encoding='ISO-8859-1')\n"
     ]
    }
   ],
   "source": [
    "# read 'songDb.tsv' into dataframe with correct encoding  \n",
    "music = pd.read_csv('songDb.tsv', sep='\\t', encoding='ISO-8859-1')"
   ]
  },
  {
   "cell_type": "markdown",
   "metadata": {},
   "source": [
    "# Cleaning and Filtering rows\n",
    "- gets rid of NaN values\n",
    "- removes all songs that are not in the top 5 genres\n",
    "- fixes indexing \n",
    "- fixes dtypes"
   ]
  },
  {
   "cell_type": "code",
   "execution_count": null,
   "metadata": {},
   "outputs": [],
   "source": [
    "# Grouping Genres \n",
    "\n",
    "base = \"genre_dataset.txt\"\n",
    "with open(base) as b:\n",
    "    lines = b.read().splitlines()\n",
    "split = np.array(lines)\n",
    "split[:10]\n",
    "df = pd.DataFrame(split, columns = ['genres'])\n",
    "df.loc[df['genres'].str.contains('rock')] = 'Rock'\n",
    "df.loc[df['genres'].str.contains('hip hop')] = 'Rap'\n",
    "df.loc[df['genres'].str.contains('country')] = 'Country'\n",
    "df.loc[df['genres'].str.contains('rap')] = 'Rap'\n",
    "df.loc[df['genres'].str.contains('r&b')] = 'R&B'\n",
    "df.loc[df['genres'].str.contains('folk')] = 'Folk'\n",
    "df.loc[df['genres'].str.contains('acoustic')] = 'Acoustic'\n",
    "df.loc[df['genres'].str.contains('core')] = 'Punk'\n",
    "df.loc[df['genres'].str.contains('jazz')] = 'Jazz'\n",
    "df.loc[df['genres'].str.contains('metal')] = 'Metal'\n",
    "df.loc[df['genres'].str.contains('edm')] = 'Electronic'\n",
    "df.loc[df['genres'].str.contains('electronic')] = 'Electronic'\n",
    "df.loc[df['genres'].str.contains('house')] = 'Electronic'\n",
    "df.loc[df['genres'].str.contains('industrial')] = 'Electronic'\n",
    "df.loc[df['genres'].str.contains('glitch')] = 'Electronic'\n",
    "df.loc[df['genres'].str.contains('idm')] = 'Electronic'\n",
    "df.loc[df['genres'].str.contains('techno')] = 'Electronic'\n",
    "df.loc[df['genres'].str.contains('garage')] = 'Electronic'\n",
    "df.loc[df['genres'].str.contains('reggeaton')] = 'Electronic'\n",
    "df.loc[df['genres'].str.contains('soul')] = 'Soul'\n",
    "df.loc[df['genres'].str.contains('pop')] = 'Pop'\n",
    "df.loc[df['genres'].str.contains('funk')] = 'Funk'\n",
    "df.loc[df['genres'].str.contains('reggae')] = 'reggae'\n",
    "df.loc[df['genres'].str.contains('punk')] = 'Punk'\n",
    "df.loc[df['genres'].str.contains('classical')] = 'Classical'\n",
    "df.loc[df['genres'].str.contains('indie')] = 'Indie'\n",
    "df.loc[df['genres'].str.contains('ambient')] = 'Ambient'\n",
    "df.loc[df['genres'].str.contains('grunge')] = 'Punk'\n",
    "df.loc[df['genres'].str.contains('gospel')] = 'Gospel'\n",
    "df.loc[df['genres'].str.contains('latin')] = 'Latin'\n",
    "df.loc[df['genres'].str.contains('grime')] = 'Rap'\n",
    "df.loc[df['genres'].str.contains('trap')] = 'Rap'\n",
    "df.loc[df['genres'].str.contains('americana')] = 'Folk'\n",
    "df.loc[df['genres'].str.contains('bluegrass')] = 'Blues'\n",
    "df.loc[df['genres'].str.contains('blues')] = 'Blues'\n",
    "df.loc[df['genres'].str.contains('roots')] = 'Blues'\n",
    "df.loc[df['genres'].str.contains('dance')] = 'Dance'\n",
    "df.loc[df['genres'].str.contains('children')] = 'Children'\n",
    "df.loc[df['genres'].str.contains('synth')] = 'Electronic'\n",
    "df.loc[df['genres'].str.contains('future')] = 'Dance'\n",
    "df.loc[df['genres'].str.contains('piano')] = 'Classical'\n",
    "df.loc[df['genres'].str.contains('funk')] = 'Funk'\n",
    "df.loc[df['genres'].str.contains('prog')] = 'Rock'\n",
    "df.loc[df['genres'].str.contains('death')] = 'Metal'\n",
    "df.loc[df['genres'].str.contains('gaze')] = 'Rock'\n",
    "df.loc[df['genres'].str.contains('sing')] = 'Vocals'\n",
    "df.loc[df['genres'].str.contains('dubstep')] = 'Electronic'\n",
    "df.loc[df['genres'].str.contains('psych')] = 'Rock'\n",
    "df.loc[df['genres'].str.contains('medieval')] = 'Folk'\n",
    "df.loc[df['genres'].str.contains('step')] = 'dance'\n",
    "df.loc[df['genres'].str.contains('choir')] = 'Vocals'\n",
    "df.loc[df['genres'].str.contains('emo')] = 'Punk'\n",
    "df.loc[df['genres'].str.contains('drone')] = 'Ambient'\n",
    "df.loc[df['genres'].str.contains('grind')] = 'Punk'\n",
    "df.loc[df['genres'].str.contains('cappella')] = 'Vocals'\n",
    "df.loc[df['genres'].str.contains('orchestra')] = 'Classical'\n",
    "df.loc[df['genres'].str.contains('trance')] = 'Electronic'\n",
    "df.loc[df['genres'].str.contains('thrash')] = 'Metal'\n",
    "df.loc[df['genres'].str.contains('alternative')] = 'Alternative'\n",
    "df.loc[df['genres'].str.contains('worship')] = 'Gospel'\n",
    "df.loc[df['genres'].str.contains('dubstep')] = 'Electronic'\n",
    "df.loc[df['genres'].str.contains('choir')] = 'Vocals'\n",
    "df.loc[df['genres'].str.contains('pipes')] = 'Classical'\n",
    "df.loc[df['genres'].str.contains('idol')] = 'pop'\n",
    "df.loc[df['genres'].str.contains('soundtrack')] = 'Film'\n",
    "df.loc[df['genres'].str.contains('film')] = 'Film'\n",
    "df.loc[df['genres'].str.contains('wave')] = 'Electronic'\n",
    "df.loc[df['genres'].str.contains('poetry')] = 'Spoken Word'\n",
    "df.loc[df['genres'].str.contains('spoken')] = 'Spoken Word'\n",
    "df.loc[df['genres'].str.contains('electro')] = 'Electronic'\n",
    "df.loc[df['genres'].str.contains('lo-fi')] = 'Alternative'\n",
    "df.loc[df['genres'].str.contains('ska')] = 'Ska'\n",
    "\n",
    "dropped = df.drop_duplicates()\n",
    "df['genres'].value_counts() # shows the top 5 genres by song count"
   ]
  },
  {
   "cell_type": "code",
   "execution_count": 3,
   "metadata": {
    "scrolled": false
   },
   "outputs": [],
   "source": [
    "df = music # for testing\n",
    "\n",
    "df = df.rename({'Genre':'genres'}, axis='columns') # rename to match \n",
    "df = df.dropna()\n",
    "\n",
    "# combines subgenres into more general Genres. This function removes all genres outside of the top 5.\n",
    "# You can alter this to include more than the top 5 genres\n",
    "def CombineGenre(str_in):\n",
    "\n",
    "    try:\n",
    "        str_in = str_in.lower()\n",
    "        str_in = str_in.strip()\n",
    "        \n",
    "        if 'rock' in str_in or 'prog' in str_in or 'gaze' in str_in or 'psych' in str_in:\n",
    "            output = 'Rock'\n",
    "        elif 'hip hop' in str_in or 'rap' in str_in or 'grime' in str_in or 'trap' in str_in:\n",
    "            output = 'Rap'\n",
    "        elif 'pop' in str_in:\n",
    "            output = 'Pop'\n",
    "        elif ('edm' in str_in or 'electronic' in str_in or 'house' in str_in or 'industrial' in str_in or 'glitch' in str_in \n",
    "                or 'idm' in str_in or 'techno' in str_in or 'garage' in str_in or 'reggeaton' in str_in or 'synth' in str_in \n",
    "                or 'dubstep' in str_in or 'trance' in str_in or 'wave' in str_in or 'electro' in str_in):\n",
    "            output = 'Electronic'\n",
    "        elif 'indie' in str_in:\n",
    "            output = 'Indie'\n",
    "        else:\n",
    "            output  = np.nan\n",
    "    except:\n",
    "        output = np.nan\n",
    "        \n",
    "    return output\n",
    "\n",
    "# applys above function to combine genres\n",
    "df['genres'] = df['genres'].apply(CombineGenre)\n",
    "df = df.dropna() # removes all genres that were not combined before \n",
    "df = df.reset_index() # resets the index since we removed many rows\n",
    "# df # shows now filtered df of music\n",
    "# df['genres'].value_counts() # shows number of songs in each top 5 genres\n"
   ]
  },
  {
   "cell_type": "code",
   "execution_count": 4,
   "metadata": {},
   "outputs": [],
   "source": [
    "feature_cols = ['Danceability', 'Energy', 'Key', 'Loudness', 'Mode',\n",
    "                'Speechness', 'Acousticness', 'Instrumentalness', 'Liveness', 'Valence',\n",
    "                'Tempo', 'Duration_ms', 'time_signature']\n",
    "\n",
    "df[feature_cols] = df[feature_cols].astype(np.float64)"
   ]
  },
  {
   "cell_type": "markdown",
   "metadata": {},
   "source": [
    "# Create Design Matrix and Target vectors from the now filtered Df "
   ]
  },
  {
   "cell_type": "code",
   "execution_count": 5,
   "metadata": {},
   "outputs": [
    {
     "name": "stdout",
     "output_type": "stream",
     "text": [
      "Feature cols: ['Danceability', 'Energy', 'Key', 'Loudness', 'Mode', 'Speechness', 'Acousticness', 'Instrumentalness', 'Liveness', 'Valence', 'Tempo', 'Duration_ms', 'time_signature']\n",
      "Target: genres\n"
     ]
    }
   ],
   "source": [
    "# Start by removing all columns that are not features \n",
    "\n",
    "feature_cols = ['Danceability', 'Energy', 'Key', 'Loudness', 'Mode',\n",
    "                'Speechness', 'Acousticness', 'Instrumentalness', 'Liveness', 'Valence',\n",
    "                'Tempo', 'Duration_ms', 'time_signature']\n",
    "target_col = 'genres'\n",
    "\n",
    "X = df[feature_cols]\n",
    "y = df[target_col]\n",
    "\n",
    "print(f'Feature cols: {feature_cols}')\n",
    "print(f'Target: {target_col}')"
   ]
  },
  {
   "cell_type": "markdown",
   "metadata": {},
   "source": [
    "### Cut down on dimensions"
   ]
  },
  {
   "cell_type": "code",
   "execution_count": 6,
   "metadata": {},
   "outputs": [],
   "source": [
    "# cut off dimensions to see affect on accuracy\n",
    "feature_cols = ['Danceability', 'Loudness',\n",
    "                'Speechness', 'Acousticness', 'Instrumentalness', 'Liveness'\n",
    "                ]"
   ]
  },
  {
   "cell_type": "markdown",
   "metadata": {},
   "source": [
    "### Sub Sample the data to 10%"
   ]
  },
  {
   "cell_type": "code",
   "execution_count": 64,
   "metadata": {},
   "outputs": [],
   "source": [
    "# take a subset of the data 10% \n",
    "\n",
    "full_data = df[feature_cols + [target_col]]\n",
    "df_small = full_data.groupby('genres').apply(lambda x: x.sample(frac = 0.1, random_state = 0)).reset_index(\n",
    "    drop = True)\n",
    "\n",
    "\n",
    "# This is a small set for testing \n",
    "X_small = df_small[feature_cols]\n",
    "y_small = df_small[target_col]\n"
   ]
  },
  {
   "cell_type": "markdown",
   "metadata": {},
   "source": [
    "### Train Test Split"
   ]
  },
  {
   "cell_type": "code",
   "execution_count": 107,
   "metadata": {
    "scrolled": false
   },
   "outputs": [
    {
     "name": "stdout",
     "output_type": "stream",
     "text": [
      "Training shape: (4676, 6)\n",
      "Testing shape: (520, 6)\n"
     ]
    }
   ],
   "source": [
    "# Create train and test sets\n",
    "from sklearn.model_selection import train_test_split\n",
    "\n",
    "X_train, X_test, y_train, y_test = train_test_split(X_small, y_small, stratify=y_small, test_size=0.1, random_state=42)\n",
    "\n",
    "print(f'Training shape: {X_train.shape}')\n",
    "print(f'Testing shape: {X_test.shape}')"
   ]
  },
  {
   "cell_type": "markdown",
   "metadata": {},
   "source": [
    "# Model Tests"
   ]
  },
  {
   "cell_type": "markdown",
   "metadata": {},
   "source": [
    "### kNN test"
   ]
  },
  {
   "cell_type": "code",
   "execution_count": 21,
   "metadata": {},
   "outputs": [
    {
     "name": "stdout",
     "output_type": "stream",
     "text": [
      "0.37490377213240955\n",
      "CPU times: total: 46 s\n",
      "Wall time: 32.6 s\n"
     ]
    }
   ],
   "source": [
    "%%time\n",
    "from sklearn.preprocessing import LabelEncoder\n",
    "from sklearn.neighbors import NeighborhoodComponentsAnalysis, KNeighborsClassifier\n",
    "from sklearn.pipeline import Pipeline\n",
    "from sklearn.compose import TransformedTargetRegressor\n",
    "\n",
    "# Label encoder for target (fitting it now to avoid unknown classes or different labels in testing)\n",
    "le = LabelEncoder().fit(df[target_col].unique())\n",
    "\n",
    "# KNN transformer and classifier\n",
    "nca = NeighborhoodComponentsAnalysis(random_state=42)\n",
    "knn = KNeighborsClassifier(n_neighbors=20, n_jobs = -1)  # default k = 3  , k = 4: acc = 34%, 5 = 35.6%, 10 = 36.7%. 20 = 37.5%, 50 = 37.8%\n",
    "\n",
    "# Pipelining\n",
    "nca_pipe = Pipeline([\n",
    "    ('nca', nca), \n",
    "    ('knn', knn)\n",
    "])\n",
    "\n",
    "# Fit\n",
    "nca_pipe.fit(X_train, le.transform(y_train))\n",
    "\n",
    "# Preliminary score\n",
    "print(nca_pipe.score(X_test, le.transform(y_test)))"
   ]
  },
  {
   "cell_type": "markdown",
   "metadata": {},
   "source": [
    "### SVM"
   ]
  },
  {
   "cell_type": "code",
   "execution_count": 108,
   "metadata": {},
   "outputs": [
    {
     "data": {
      "text/plain": [
       "0.4288461538461538"
      ]
     },
     "execution_count": 108,
     "metadata": {},
     "output_type": "execute_result"
    }
   ],
   "source": [
    "# SVM code linear\n",
    "from sklearn.svm import SVC # \"Support vector classifier\"\n",
    "model = SVC(kernel='linear', C=1) # default linear            Note: testsize = 0.1 gets 42.8%\n",
    "model.fit(X_train, y_train)\n",
    "\n",
    "model.score(X_test,y_test)"
   ]
  },
  {
   "cell_type": "code",
   "execution_count": 109,
   "metadata": {},
   "outputs": [
    {
     "data": {
      "text/plain": [
       "0.4230769230769231"
      ]
     },
     "execution_count": 109,
     "metadata": {},
     "output_type": "execute_result"
    }
   ],
   "source": [
    "# SVM code rbf\n",
    "from sklearn.svm import SVC # \"Support vector classifier\"\n",
    "model = SVC(kernel='rbf', C=18)                    # Note C = 18 is good\n",
    "model.fit(X_train, y_train)\n",
    "\n",
    "model.score(X_test,y_test)"
   ]
  },
  {
   "cell_type": "code",
   "execution_count": null,
   "metadata": {},
   "outputs": [],
   "source": [
    "#from sklearn.model_selection import cross_val_score\n",
    "#cross_score = cross_val_score(model, X, y, cv=5)"
   ]
  },
  {
   "cell_type": "code",
   "execution_count": null,
   "metadata": {},
   "outputs": [
    {
     "data": {
      "text/plain": [
       "array([0.36255172, 0.33407101, 0.35459969, 0.34853734, 0.36046959])"
      ]
     },
     "execution_count": 46,
     "metadata": {},
     "output_type": "execute_result"
    }
   ],
   "source": [
    "#cross_score"
   ]
  },
  {
   "cell_type": "markdown",
   "metadata": {},
   "source": [
    "### PCA"
   ]
  },
  {
   "cell_type": "markdown",
   "metadata": {},
   "source": [
    "### Logistic Regression"
   ]
  },
  {
   "cell_type": "code",
   "execution_count": 110,
   "metadata": {
    "scrolled": true
   },
   "outputs": [
    {
     "data": {
      "image/png": "[encoded data removed]",
      "text/plain": [
       "<Figure size 864x360 with 1 Axes>"
      ]
     },
     "metadata": {
      "image/png": {
       "height": 316,
       "width": 742
      },
      "needs_background": "light"
     },
     "output_type": "display_data"
    }
   ],
   "source": [
    "def plot_results(gridsearchcv):\n",
    "    params = gridsearchcv.cv_results_[\"params\"]\n",
    "    ys = gridsearchcv.cv_results_[\"mean_test_score\"]\n",
    "    xs = ['|'.join(str(v) for v in param.values()) for param in params]\n",
    "    yerr = gridsearchcv.cv_results_[\"std_test_score\"]\n",
    "    plt.errorbar(xs, ys, yerr / np.sqrt(gridsearchcv.cv), fmt='.k')\n",
    "    plt.ylabel(\"f1\")\n",
    "    plt.xlabel(\"params\")\n",
    "    \n",
    "def check_for_convergence(gridsearchcv):\n",
    "    return gridsearchcv.best_estimator_.steps[-1][1].n_iter_ < gridsearchcv.best_estimator_.steps[-1][1].max_iter\n",
    "\n",
    "\n",
    "np.random.seed(31415) \n",
    "\n",
    "scaler = StandardScaler()\n",
    "imp = SimpleImputer(missing_values=np.nan, strategy='mean')\n",
    "logistic = LogisticRegression() # first step\n",
    "\n",
    "# YOUR CODE HERE\n",
    "\n",
    "pipe = Pipeline(steps=[(\"scaler\", scaler), (\"imputer\", imp), (\"logistic\", logistic)])\n",
    "\n",
    "# you don't need to modify the max_iter param. If you do, keep it under 1000\n",
    "# hint, prefix your param names with logistic__ to pass it to the logistic step\n",
    "\n",
    "# this grid when passed to the gridsearch will make a logistic regression \n",
    "# if you add more to the param_grid you can compare differnt models and see their IQR\n",
    "param_grid = { \n",
    "    \"logistic__C\" : 10.0 ** -np.arange(-2, 5),\n",
    "    \"logistic__solver\" : ['liblinear'], # use one algo from here it needs to be l1 https://scikit-learn.org/stable/modules/generated/sklearn.linear_model.LogisticRegressionCV.html\n",
    "    \"logistic__penalty\" : ['l1'] # TA recommends using the l1 penalty \n",
    "}\n",
    "\n",
    "# YOUR CODE HERE\n",
    "\n",
    "# use f1_micro for scoring\n",
    "# use 7 folds\n",
    "gscv = GridSearchCV(pipe, param_grid, scoring = 'f1_micro', cv=7) # GridSearchCV(...)\n",
    "\n",
    "# YOUR CODE HERE\n",
    "\n",
    "\n",
    "# gscv.fit(X_train, y_train)\n",
    "gscv.fit(X_train, y_train)\n",
    "\n",
    "plot_results(gscv)\n"
   ]
  },
  {
   "cell_type": "code",
   "execution_count": null,
   "metadata": {},
   "outputs": [],
   "source": []
  }
 ],
 "metadata": {
  "interpreter": {
   "hash": "b081a66ee97bd2b6a16f43955f1d810b7ea816d6eaeb65e157ef9e038445f0c6"
  },
  "kernelspec": {
   "display_name": "Python 3 (ipykernel)",
   "language": "python",
   "name": "python3"
  },
  "language_info": {
   "codemirror_mode": {
    "name": "ipython",
    "version": 3
   },
   "file_extension": ".py",
   "mimetype": "text/x-python",
   "name": "python",
   "nbconvert_exporter": "python",
   "pygments_lexer": "ipython3",
   "version": "3.8.3"
  }
 },
 "nbformat": 4,
 "nbformat_minor": 2
}
