{
 "cells": [
  {
   "cell_type": "markdown",
   "metadata": {},
   "source": [
    "# Testing models"
   ]
  },
  {
   "cell_type": "code",
   "execution_count": 35,
   "metadata": {},
   "outputs": [],
   "source": [
    "# import pandas & numpy library\n",
    "import pandas as pd\n",
    "import numpy as np\n",
    "\n",
    "# imoprt seaborn & matplotlib\n",
    "import seaborn as sns\n",
    "import matplotlib.pyplot as plt\n",
    "\n",
    "# import KNN from sklearn\n",
    "from sklearn.neighbors import KDTree\n",
    "\n",
    "# shows a bigger plot size for readability \n",
    "plt.rcParams['figure.figsize'] = (12, 5)\n",
    "#improve resolution\n",
    "%config InlineBackend.figure_format ='retina'\n",
    "\n",
    "\n",
    "from sklearn.preprocessing import StandardScaler\n",
    "from sklearn.linear_model import LogisticRegression\n",
    "from sklearn.pipeline import Pipeline\n",
    "from sklearn.impute import SimpleImputer\n",
    "from sklearn.model_selection import GridSearchCV, train_test_split\n",
    "from sklearn.metrics import plot_confusion_matrix, f1_score, confusion_matrix"
   ]
  },
  {
   "cell_type": "code",
   "execution_count": 36,
   "metadata": {},
   "outputs": [
    {
     "name": "stderr",
     "output_type": "stream",
     "text": [
      "C:\\Users\\David Soberanis\\AppData\\Local\\Temp\\ipykernel_1516\\3079004086.py:2: DtypeWarning: Columns (11,18) have mixed types. Specify dtype option on import or set low_memory=False.\n",
      "  music = pd.read_csv('songDb.tsv', sep='\\t', encoding='ISO-8859-1')\n"
     ]
    }
   ],
   "source": [
    "# read 'songDb.tsv' into dataframe with correct encoding  \n",
    "music = pd.read_csv('songDb.tsv', sep='\\t', encoding='ISO-8859-1')"
   ]
  },
  {
   "cell_type": "markdown",
   "metadata": {},
   "source": [
    "# Cleaning and Filtering rows\n",
    "- gets rid of NaN values\n",
    "- removes all songs that are not in the top 5 genres\n",
    "- fixes indexing \n",
    "- fixes dtypes"
   ]
  },
  {
   "cell_type": "code",
   "execution_count": 37,
   "metadata": {
    "scrolled": false
   },
   "outputs": [],
   "source": [
    "df = music # for testing\n",
    "\n",
    "df = df.rename({'Genre':'genres'}, axis='columns') # rename to match \n",
    "df = df.dropna()\n",
    "\n",
    "# combines subgenres into more general Genres. This function removes all genres outside of the top 5.\n",
    "# You can alter this to include more than the top 5 genres\n",
    "def CombineGenre(str_in):\n",
    "\n",
    "    try:\n",
    "        str_in = str_in.lower()\n",
    "        str_in = str_in.strip()\n",
    "        \n",
    "        if 'rock' in str_in or 'prog' in str_in or 'gaze' in str_in or 'psych' in str_in:\n",
    "            output = 'Rock'\n",
    "        elif 'hip hop' in str_in or 'rap' in str_in or 'grime' in str_in or 'trap' in str_in:\n",
    "            output = 'Rap'\n",
    "        elif 'pop' in str_in:\n",
    "            output = 'Pop'\n",
    "        elif ('edm' in str_in or 'electronic' in str_in or 'house' in str_in or 'industrial' in str_in or 'glitch' in str_in \n",
    "                or 'idm' in str_in or 'techno' in str_in or 'garage' in str_in or 'reggeaton' in str_in or 'synth' in str_in \n",
    "                or 'dubstep' in str_in or 'trance' in str_in or 'wave' in str_in or 'electro' in str_in):\n",
    "            output = 'Electronic'\n",
    "        elif 'indie' in str_in:\n",
    "            output = 'Indie'\n",
    "        else:\n",
    "            output  = np.nan\n",
    "    except:\n",
    "        output = np.nan\n",
    "        \n",
    "    return output\n",
    "\n",
    "# applys above function to combine genres\n",
    "df['genres'] = df['genres'].apply(CombineGenre)\n",
    "df = df.dropna() # removes all genres that were not combined before \n",
    "df = df.reset_index() # resets the index since we removed many rows\n",
    "# df # shows now filtered df of music\n",
    "# df['genres'].value_counts() # shows number of songs in each top 5 genres\n"
   ]
  },
  {
   "cell_type": "code",
   "execution_count": 38,
   "metadata": {},
   "outputs": [],
   "source": [
    "feature_cols = ['Danceability', 'Energy', 'Key', 'Loudness', 'Mode',\n",
    "                'Speechness', 'Acousticness', 'Instrumentalness', 'Liveness', 'Valence',\n",
    "                'Tempo', 'Duration_ms', 'time_signature']\n",
    "\n",
    "df[feature_cols] = df[feature_cols].astype(np.float64)"
   ]
  },
  {
   "cell_type": "markdown",
   "metadata": {},
   "source": [
    "# Create Design Matrix and Target vectors from the now filtered Df "
   ]
  },
  {
   "cell_type": "code",
   "execution_count": 39,
   "metadata": {},
   "outputs": [
    {
     "name": "stdout",
     "output_type": "stream",
     "text": [
      "Feature cols: ['Danceability', 'Energy', 'Key', 'Loudness', 'Mode', 'Speechness', 'Acousticness', 'Instrumentalness', 'Liveness', 'Valence', 'Tempo', 'Duration_ms', 'time_signature']\n",
      "Target: genres\n"
     ]
    }
   ],
   "source": [
    "# Start by removing all columns that are not features \n",
    "\n",
    "feature_cols = ['Danceability', 'Energy', 'Key', 'Loudness', 'Mode',\n",
    "                'Speechness', 'Acousticness', 'Instrumentalness', 'Liveness', 'Valence',\n",
    "                'Tempo', 'Duration_ms', 'time_signature']\n",
    "target_col = 'genres'\n",
    "\n",
    "X = df[feature_cols]\n",
    "y = df[target_col]\n",
    "\n",
    "print(f'Feature cols: {feature_cols}')\n",
    "print(f'Target: {target_col}')"
   ]
  },
  {
   "cell_type": "markdown",
   "metadata": {},
   "source": [
    "### Train Test Split"
   ]
  },
  {
   "cell_type": "code",
   "execution_count": 40,
   "metadata": {
    "scrolled": false
   },
   "outputs": [
    {
     "name": "stdout",
     "output_type": "stream",
     "text": [
      "Training shape: (15588, 13)\n",
      "Testing shape: (36374, 13)\n"
     ]
    }
   ],
   "source": [
    "# Create train and test sets\n",
    "from sklearn.model_selection import train_test_split\n",
    "\n",
    "X_train, X_test, y_train, y_test = train_test_split(X, y, stratify=y, test_size=0.7, random_state=42)\n",
    "\n",
    "print(f'Training shape: {X_train.shape}')\n",
    "print(f'Testing shape: {X_test.shape}')"
   ]
  },
  {
   "cell_type": "markdown",
   "metadata": {},
   "source": [
    "# Model Tests"
   ]
  },
  {
   "cell_type": "markdown",
   "metadata": {},
   "source": [
    "### kNN test"
   ]
  },
  {
   "cell_type": "code",
   "execution_count": null,
   "metadata": {},
   "outputs": [],
   "source": [
    "%%time\n",
    "from sklearn.preprocessing import LabelEncoder\n",
    "from sklearn.neighbors import NeighborhoodComponentsAnalysis, KNeighborsClassifier\n",
    "from sklearn.pipeline import Pipeline\n",
    "from sklearn.compose import TransformedTargetRegressor\n",
    "\n",
    "# Label encoder for target (fitting it now to avoid unknown classes or different labels in testing)\n",
    "le = LabelEncoder().fit(df[target_col].unique())\n",
    "\n",
    "# KNN transformer and classifier\n",
    "nca = NeighborhoodComponentsAnalysis(random_state=42)\n",
    "knn = KNeighborsClassifier(n_neighbors=3, n_jobs = -1)\n",
    "\n",
    "# Pipelining\n",
    "nca_pipe = Pipeline([\n",
    "    ('nca', nca), \n",
    "    ('knn', knn)\n",
    "])\n",
    "\n",
    "# Fit\n",
    "nca_pipe.fit(X_train, le.transform(y_train))\n",
    "\n",
    "# Preliminary score\n",
    "print(nca_pipe.score(X_test, le.transform(y_test)))"
   ]
  },
  {
   "cell_type": "markdown",
   "metadata": {},
   "source": [
    "### SVM"
   ]
  },
  {
   "cell_type": "code",
   "execution_count": null,
   "metadata": {},
   "outputs": [],
   "source": [
    "# SVM code\n",
    "# from sklearn.svm import SVC # \"Support vector classifier\"\n",
    "# model = SVC(kernel='linear', C=1)\n",
    "# model.fit(X, y)"
   ]
  },
  {
   "cell_type": "code",
   "execution_count": null,
   "metadata": {},
   "outputs": [
    {
     "data": {
      "text/plain": [
       "0.35460528848004313"
      ]
     },
     "execution_count": 45,
     "metadata": {},
     "output_type": "execute_result"
    }
   ],
   "source": [
    "# model.score(X,y)"
   ]
  },
  {
   "cell_type": "code",
   "execution_count": null,
   "metadata": {},
   "outputs": [],
   "source": [
    "#from sklearn.model_selection import cross_val_score\n",
    "#cross_score = cross_val_score(model, X, y, cv=5)"
   ]
  },
  {
   "cell_type": "code",
   "execution_count": null,
   "metadata": {},
   "outputs": [
    {
     "data": {
      "text/plain": [
       "array([0.36255172, 0.33407101, 0.35459969, 0.34853734, 0.36046959])"
      ]
     },
     "execution_count": 46,
     "metadata": {},
     "output_type": "execute_result"
    }
   ],
   "source": [
    "#cross_score"
   ]
  },
  {
   "cell_type": "markdown",
   "metadata": {},
   "source": [
    "### Logistic Regression"
   ]
  },
  {
   "cell_type": "code",
   "execution_count": 42,
   "metadata": {},
   "outputs": [
    {
     "name": "stdout",
     "output_type": "stream",
     "text": [
      "(41569, 6)\n",
      "(41569, 7)\n",
      "(41569, 9)\n",
      "(10393, 6)\n",
      "(10393, 7)\n",
      "(10393, 9)\n",
      " \n",
      "(10393, 2)\n",
      "(10393, 2)\n"
     ]
    }
   ],
   "source": [
    "# Read in the different PCAs as dataframes for testing\n",
    "\n",
    "\n",
    "X_train_08 = pd.read_csv('X_train_0.8.csv')\n",
    "X_train_09 = pd.read_csv('X_train_0.9.csv')\n",
    "X_train_095 = pd.read_csv('X_train_0.95.csv')\n",
    "\n",
    "X_test_08 = pd.read_csv('X_test_0.8.csv')\n",
    "X_test_09 = pd.read_csv('X_test_0.9.csv')\n",
    "X_test_095 = pd.read_csv('X_test_0.95.csv')\n",
    "\n",
    "X_PCA = [X_train_08, X_train_09, X_train_095, X_test_08, X_test_09, X_test_095]\n",
    "\n",
    "y_train_PCA = pd.read_csv('Y_train.csv')\n",
    "y_test_PCA = pd.read_csv('Y_test.csv')\n",
    "\n",
    "y_PCA = [y_train_PCA, y_test_PCA]\n",
    "\n",
    "# Dimensions for all of these splits\n",
    "for i in X_PCA:\n",
    "    print(i.shape)\n",
    "print(' ')\n",
    "for i in y_PCA:\n",
    "    print(i.shape)"
   ]
  },
  {
   "cell_type": "code",
   "execution_count": 46,
   "metadata": {},
   "outputs": [
    {
     "data": {
      "text/plain": [
       "(15588,)"
      ]
     },
     "execution_count": 46,
     "metadata": {},
     "output_type": "execute_result"
    }
   ],
   "source": []
  },
  {
   "cell_type": "code",
   "execution_count": 47,
   "metadata": {},
   "outputs": [
    {
     "ename": "TypeError",
     "evalue": "'<' not supported between instances of 'str' and 'int'",
     "output_type": "error",
     "traceback": [
      "\u001b[1;31m---------------------------------------------------------------------------\u001b[0m",
      "\u001b[1;31mTypeError\u001b[0m                                 Traceback (most recent call last)",
      "\u001b[1;32mc:\\Users\\David Soberanis\\Documents\\GitHub\\Group010-Sp22\\PCA_Results\\LogRegression.ipynb Cell 22'\u001b[0m in \u001b[0;36m<module>\u001b[1;34m\u001b[0m\n\u001b[0;32m     <a href='vscode-notebook-cell:/c%3A/Users/David%20Soberanis/Documents/GitHub/Group010-Sp22/PCA_Results/LogRegression.ipynb#ch0000020?line=37'>38</a>\u001b[0m gscv \u001b[39m=\u001b[39m GridSearchCV(pipe, param_grid, scoring \u001b[39m=\u001b[39m \u001b[39m'\u001b[39m\u001b[39mf1_micro\u001b[39m\u001b[39m'\u001b[39m, cv\u001b[39m=\u001b[39m\u001b[39m7\u001b[39m) \u001b[39m# GridSearchCV(...)\u001b[39;00m\n\u001b[0;32m     <a href='vscode-notebook-cell:/c%3A/Users/David%20Soberanis/Documents/GitHub/Group010-Sp22/PCA_Results/LogRegression.ipynb#ch0000020?line=39'>40</a>\u001b[0m \u001b[39m# YOUR CODE HERE\u001b[39;00m\n\u001b[0;32m     <a href='vscode-notebook-cell:/c%3A/Users/David%20Soberanis/Documents/GitHub/Group010-Sp22/PCA_Results/LogRegression.ipynb#ch0000020?line=40'>41</a>\u001b[0m \n\u001b[0;32m     <a href='vscode-notebook-cell:/c%3A/Users/David%20Soberanis/Documents/GitHub/Group010-Sp22/PCA_Results/LogRegression.ipynb#ch0000020?line=41'>42</a>\u001b[0m \n\u001b[0;32m     <a href='vscode-notebook-cell:/c%3A/Users/David%20Soberanis/Documents/GitHub/Group010-Sp22/PCA_Results/LogRegression.ipynb#ch0000020?line=42'>43</a>\u001b[0m \u001b[39m# gscv.fit(X_train, y_train)\u001b[39;00m\n\u001b[1;32m---> <a href='vscode-notebook-cell:/c%3A/Users/David%20Soberanis/Documents/GitHub/Group010-Sp22/PCA_Results/LogRegression.ipynb#ch0000020?line=43'>44</a>\u001b[0m gscv\u001b[39m.\u001b[39;49mfit(X_test_08, y_train_PCA)\n\u001b[0;32m     <a href='vscode-notebook-cell:/c%3A/Users/David%20Soberanis/Documents/GitHub/Group010-Sp22/PCA_Results/LogRegression.ipynb#ch0000020?line=45'>46</a>\u001b[0m plot_results(gscv)\n",
      "File \u001b[1;32mc:\\Python\\Python38\\lib\\site-packages\\sklearn\\model_selection\\_search.py:802\u001b[0m, in \u001b[0;36mBaseSearchCV.fit\u001b[1;34m(self, X, y, groups, **fit_params)\u001b[0m\n\u001b[0;32m    <a href='file:///c%3A/Python/Python38/lib/site-packages/sklearn/model_selection/_search.py?line=798'>799</a>\u001b[0m X, y, groups \u001b[39m=\u001b[39m indexable(X, y, groups)\n\u001b[0;32m    <a href='file:///c%3A/Python/Python38/lib/site-packages/sklearn/model_selection/_search.py?line=799'>800</a>\u001b[0m fit_params \u001b[39m=\u001b[39m _check_fit_params(X, fit_params)\n\u001b[1;32m--> <a href='file:///c%3A/Python/Python38/lib/site-packages/sklearn/model_selection/_search.py?line=801'>802</a>\u001b[0m cv_orig \u001b[39m=\u001b[39m check_cv(\u001b[39mself\u001b[39;49m\u001b[39m.\u001b[39;49mcv, y, classifier\u001b[39m=\u001b[39;49mis_classifier(estimator))\n\u001b[0;32m    <a href='file:///c%3A/Python/Python38/lib/site-packages/sklearn/model_selection/_search.py?line=802'>803</a>\u001b[0m n_splits \u001b[39m=\u001b[39m cv_orig\u001b[39m.\u001b[39mget_n_splits(X, y, groups)\n\u001b[0;32m    <a href='file:///c%3A/Python/Python38/lib/site-packages/sklearn/model_selection/_search.py?line=804'>805</a>\u001b[0m base_estimator \u001b[39m=\u001b[39m clone(\u001b[39mself\u001b[39m\u001b[39m.\u001b[39mestimator)\n",
      "File \u001b[1;32mc:\\Python\\Python38\\lib\\site-packages\\sklearn\\model_selection\\_split.py:2303\u001b[0m, in \u001b[0;36mcheck_cv\u001b[1;34m(cv, y, classifier)\u001b[0m\n\u001b[0;32m   <a href='file:///c%3A/Python/Python38/lib/site-packages/sklearn/model_selection/_split.py?line=2297'>2298</a>\u001b[0m cv \u001b[39m=\u001b[39m \u001b[39m5\u001b[39m \u001b[39mif\u001b[39;00m cv \u001b[39mis\u001b[39;00m \u001b[39mNone\u001b[39;00m \u001b[39melse\u001b[39;00m cv\n\u001b[0;32m   <a href='file:///c%3A/Python/Python38/lib/site-packages/sklearn/model_selection/_split.py?line=2298'>2299</a>\u001b[0m \u001b[39mif\u001b[39;00m \u001b[39misinstance\u001b[39m(cv, numbers\u001b[39m.\u001b[39mIntegral):\n\u001b[0;32m   <a href='file:///c%3A/Python/Python38/lib/site-packages/sklearn/model_selection/_split.py?line=2299'>2300</a>\u001b[0m     \u001b[39mif\u001b[39;00m (\n\u001b[0;32m   <a href='file:///c%3A/Python/Python38/lib/site-packages/sklearn/model_selection/_split.py?line=2300'>2301</a>\u001b[0m         classifier\n\u001b[0;32m   <a href='file:///c%3A/Python/Python38/lib/site-packages/sklearn/model_selection/_split.py?line=2301'>2302</a>\u001b[0m         \u001b[39mand\u001b[39;00m (y \u001b[39mis\u001b[39;00m \u001b[39mnot\u001b[39;00m \u001b[39mNone\u001b[39;00m)\n\u001b[1;32m-> <a href='file:///c%3A/Python/Python38/lib/site-packages/sklearn/model_selection/_split.py?line=2302'>2303</a>\u001b[0m         \u001b[39mand\u001b[39;00m (type_of_target(y) \u001b[39min\u001b[39;00m (\u001b[39m\"\u001b[39m\u001b[39mbinary\u001b[39m\u001b[39m\"\u001b[39m, \u001b[39m\"\u001b[39m\u001b[39mmulticlass\u001b[39m\u001b[39m\"\u001b[39m))\n\u001b[0;32m   <a href='file:///c%3A/Python/Python38/lib/site-packages/sklearn/model_selection/_split.py?line=2303'>2304</a>\u001b[0m     ):\n\u001b[0;32m   <a href='file:///c%3A/Python/Python38/lib/site-packages/sklearn/model_selection/_split.py?line=2304'>2305</a>\u001b[0m         \u001b[39mreturn\u001b[39;00m StratifiedKFold(cv)\n\u001b[0;32m   <a href='file:///c%3A/Python/Python38/lib/site-packages/sklearn/model_selection/_split.py?line=2305'>2306</a>\u001b[0m     \u001b[39melse\u001b[39;00m:\n",
      "File \u001b[1;32mc:\\Python\\Python38\\lib\\site-packages\\sklearn\\utils\\multiclass.py:278\u001b[0m, in \u001b[0;36mtype_of_target\u001b[1;34m(y)\u001b[0m\n\u001b[0;32m    <a href='file:///c%3A/Python/Python38/lib/site-packages/sklearn/utils/multiclass.py?line=274'>275</a>\u001b[0m \u001b[39mif\u001b[39;00m sparse_pandas:\n\u001b[0;32m    <a href='file:///c%3A/Python/Python38/lib/site-packages/sklearn/utils/multiclass.py?line=275'>276</a>\u001b[0m     \u001b[39mraise\u001b[39;00m \u001b[39mValueError\u001b[39;00m(\u001b[39m\"\u001b[39m\u001b[39my cannot be class \u001b[39m\u001b[39m'\u001b[39m\u001b[39mSparseSeries\u001b[39m\u001b[39m'\u001b[39m\u001b[39m or \u001b[39m\u001b[39m'\u001b[39m\u001b[39mSparseArray\u001b[39m\u001b[39m'\u001b[39m\u001b[39m\"\u001b[39m)\n\u001b[1;32m--> <a href='file:///c%3A/Python/Python38/lib/site-packages/sklearn/utils/multiclass.py?line=277'>278</a>\u001b[0m \u001b[39mif\u001b[39;00m is_multilabel(y):\n\u001b[0;32m    <a href='file:///c%3A/Python/Python38/lib/site-packages/sklearn/utils/multiclass.py?line=278'>279</a>\u001b[0m     \u001b[39mreturn\u001b[39;00m \u001b[39m\"\u001b[39m\u001b[39mmultilabel-indicator\u001b[39m\u001b[39m\"\u001b[39m\n\u001b[0;32m    <a href='file:///c%3A/Python/Python38/lib/site-packages/sklearn/utils/multiclass.py?line=280'>281</a>\u001b[0m \u001b[39m# DeprecationWarning will be replaced by ValueError, see NEP 34\u001b[39;00m\n\u001b[0;32m    <a href='file:///c%3A/Python/Python38/lib/site-packages/sklearn/utils/multiclass.py?line=281'>282</a>\u001b[0m \u001b[39m# https://numpy.org/neps/nep-0034-infer-dtype-is-object.html\u001b[39;00m\n",
      "File \u001b[1;32mc:\\Python\\Python38\\lib\\site-packages\\sklearn\\utils\\multiclass.py:171\u001b[0m, in \u001b[0;36mis_multilabel\u001b[1;34m(y)\u001b[0m\n\u001b[0;32m    <a href='file:///c%3A/Python/Python38/lib/site-packages/sklearn/utils/multiclass.py?line=161'>162</a>\u001b[0m     \u001b[39mreturn\u001b[39;00m (\n\u001b[0;32m    <a href='file:///c%3A/Python/Python38/lib/site-packages/sklearn/utils/multiclass.py?line=162'>163</a>\u001b[0m         \u001b[39mlen\u001b[39m(y\u001b[39m.\u001b[39mdata) \u001b[39m==\u001b[39m \u001b[39m0\u001b[39m\n\u001b[0;32m    <a href='file:///c%3A/Python/Python38/lib/site-packages/sklearn/utils/multiclass.py?line=163'>164</a>\u001b[0m         \u001b[39mor\u001b[39;00m np\u001b[39m.\u001b[39munique(y\u001b[39m.\u001b[39mdata)\u001b[39m.\u001b[39msize \u001b[39m==\u001b[39m \u001b[39m1\u001b[39m\n\u001b[1;32m   (...)\u001b[0m\n\u001b[0;32m    <a href='file:///c%3A/Python/Python38/lib/site-packages/sklearn/utils/multiclass.py?line=167'>168</a>\u001b[0m         )\n\u001b[0;32m    <a href='file:///c%3A/Python/Python38/lib/site-packages/sklearn/utils/multiclass.py?line=168'>169</a>\u001b[0m     )\n\u001b[0;32m    <a href='file:///c%3A/Python/Python38/lib/site-packages/sklearn/utils/multiclass.py?line=169'>170</a>\u001b[0m \u001b[39melse\u001b[39;00m:\n\u001b[1;32m--> <a href='file:///c%3A/Python/Python38/lib/site-packages/sklearn/utils/multiclass.py?line=170'>171</a>\u001b[0m     labels \u001b[39m=\u001b[39m np\u001b[39m.\u001b[39;49munique(y)\n\u001b[0;32m    <a href='file:///c%3A/Python/Python38/lib/site-packages/sklearn/utils/multiclass.py?line=172'>173</a>\u001b[0m     \u001b[39mreturn\u001b[39;00m \u001b[39mlen\u001b[39m(labels) \u001b[39m<\u001b[39m \u001b[39m3\u001b[39m \u001b[39mand\u001b[39;00m (\n\u001b[0;32m    <a href='file:///c%3A/Python/Python38/lib/site-packages/sklearn/utils/multiclass.py?line=173'>174</a>\u001b[0m         y\u001b[39m.\u001b[39mdtype\u001b[39m.\u001b[39mkind \u001b[39min\u001b[39;00m \u001b[39m\"\u001b[39m\u001b[39mbiu\u001b[39m\u001b[39m\"\u001b[39m \u001b[39mor\u001b[39;00m _is_integral_float(labels)  \u001b[39m# bool, int, uint\u001b[39;00m\n\u001b[0;32m    <a href='file:///c%3A/Python/Python38/lib/site-packages/sklearn/utils/multiclass.py?line=174'>175</a>\u001b[0m     )\n",
      "File \u001b[1;32m<__array_function__ internals>:5\u001b[0m, in \u001b[0;36munique\u001b[1;34m(*args, **kwargs)\u001b[0m\n",
      "File \u001b[1;32mc:\\Python\\Python38\\lib\\site-packages\\numpy\\lib\\arraysetops.py:261\u001b[0m, in \u001b[0;36munique\u001b[1;34m(ar, return_index, return_inverse, return_counts, axis)\u001b[0m\n\u001b[0;32m    <a href='file:///c%3A/Python/Python38/lib/site-packages/numpy/lib/arraysetops.py?line=258'>259</a>\u001b[0m ar \u001b[39m=\u001b[39m np\u001b[39m.\u001b[39masanyarray(ar)\n\u001b[0;32m    <a href='file:///c%3A/Python/Python38/lib/site-packages/numpy/lib/arraysetops.py?line=259'>260</a>\u001b[0m \u001b[39mif\u001b[39;00m axis \u001b[39mis\u001b[39;00m \u001b[39mNone\u001b[39;00m:\n\u001b[1;32m--> <a href='file:///c%3A/Python/Python38/lib/site-packages/numpy/lib/arraysetops.py?line=260'>261</a>\u001b[0m     ret \u001b[39m=\u001b[39m _unique1d(ar, return_index, return_inverse, return_counts)\n\u001b[0;32m    <a href='file:///c%3A/Python/Python38/lib/site-packages/numpy/lib/arraysetops.py?line=261'>262</a>\u001b[0m     \u001b[39mreturn\u001b[39;00m _unpack_tuple(ret)\n\u001b[0;32m    <a href='file:///c%3A/Python/Python38/lib/site-packages/numpy/lib/arraysetops.py?line=263'>264</a>\u001b[0m \u001b[39m# axis was specified and not None\u001b[39;00m\n",
      "File \u001b[1;32mc:\\Python\\Python38\\lib\\site-packages\\numpy\\lib\\arraysetops.py:322\u001b[0m, in \u001b[0;36m_unique1d\u001b[1;34m(ar, return_index, return_inverse, return_counts)\u001b[0m\n\u001b[0;32m    <a href='file:///c%3A/Python/Python38/lib/site-packages/numpy/lib/arraysetops.py?line=319'>320</a>\u001b[0m     aux \u001b[39m=\u001b[39m ar[perm]\n\u001b[0;32m    <a href='file:///c%3A/Python/Python38/lib/site-packages/numpy/lib/arraysetops.py?line=320'>321</a>\u001b[0m \u001b[39melse\u001b[39;00m:\n\u001b[1;32m--> <a href='file:///c%3A/Python/Python38/lib/site-packages/numpy/lib/arraysetops.py?line=321'>322</a>\u001b[0m     ar\u001b[39m.\u001b[39;49msort()\n\u001b[0;32m    <a href='file:///c%3A/Python/Python38/lib/site-packages/numpy/lib/arraysetops.py?line=322'>323</a>\u001b[0m     aux \u001b[39m=\u001b[39m ar\n\u001b[0;32m    <a href='file:///c%3A/Python/Python38/lib/site-packages/numpy/lib/arraysetops.py?line=323'>324</a>\u001b[0m mask \u001b[39m=\u001b[39m np\u001b[39m.\u001b[39mempty(aux\u001b[39m.\u001b[39mshape, dtype\u001b[39m=\u001b[39mnp\u001b[39m.\u001b[39mbool_)\n",
      "\u001b[1;31mTypeError\u001b[0m: '<' not supported between instances of 'str' and 'int'"
     ]
    }
   ],
   "source": [
    "\n",
    "\n",
    "def plot_results(gridsearchcv):\n",
    "    params = gridsearchcv.cv_results_[\"params\"]\n",
    "    ys = gridsearchcv.cv_results_[\"mean_test_score\"]\n",
    "    xs = ['|'.join(str(v) for v in param.values()) for param in params]\n",
    "    yerr = gridsearchcv.cv_results_[\"std_test_score\"]\n",
    "    plt.errorbar(xs, ys, yerr / np.sqrt(gridsearchcv.cv), fmt='.k')\n",
    "    plt.ylabel(\"f1\")\n",
    "    plt.xlabel(\"params\")\n",
    "    \n",
    "def check_for_convergence(gridsearchcv):\n",
    "    return gridsearchcv.best_estimator_.steps[-1][1].n_iter_ < gridsearchcv.best_estimator_.steps[-1][1].max_iter\n",
    "\n",
    "\n",
    "np.random.seed(31415) \n",
    "\n",
    "scaler = StandardScaler()\n",
    "imp = SimpleImputer(missing_values=np.nan, strategy='mean')\n",
    "logistic = LogisticRegression() # first step\n",
    "\n",
    "# YOUR CODE HERE\n",
    "\n",
    "pipe = Pipeline(steps=[(\"scaler\", scaler), (\"imputer\", imp), (\"logistic\", logistic)])\n",
    "\n",
    "# you don't need to modify the max_iter param. If you do, keep it under 1000\n",
    "# hint, prefix your param names with logistic__ to pass it to the logistic step\n",
    "\n",
    "# this grid when passed to the gridsearch will make a logistic regression \n",
    "# if you add more to the param_grid you can compare differnt models and see their IQR\n",
    "param_grid = { \n",
    "    \"logistic__solver\" : ['liblinear'], # use one algo from here it needs to be l1 https://scikit-learn.org/stable/modules/generated/sklearn.linear_model.LogisticRegressionCV.html\n",
    "    \"logistic__penalty\" : ['l1'] # TA recommends using the l1 penalty \n",
    "}\n",
    "\n",
    "# YOUR CODE HERE\n",
    "\n",
    "# use f1_micro for scoring\n",
    "# use 7 folds\n",
    "gscv = GridSearchCV(pipe, param_grid, scoring = 'f1_micro', cv=7) # GridSearchCV(...)\n",
    "\n",
    "# YOUR CODE HERE\n",
    "\n",
    "\n",
    "# gscv.fit(X_train, y_train)\n",
    "gscv.fit(X_test_08, y_train_PCA)\n",
    "\n",
    "plot_results(gscv)\n"
   ]
  },
  {
   "cell_type": "code",
   "execution_count": null,
   "metadata": {},
   "outputs": [],
   "source": []
  }
 ],
 "metadata": {
  "interpreter": {
   "hash": "b081a66ee97bd2b6a16f43955f1d810b7ea816d6eaeb65e157ef9e038445f0c6"
  },
  "kernelspec": {
   "display_name": "Python 3 (ipykernel)",
   "language": "python",
   "name": "python3"
  },
  "language_info": {
   "codemirror_mode": {
    "name": "ipython",
    "version": 3
   },
   "file_extension": ".py",
   "mimetype": "text/x-python",
   "name": "python",
   "nbconvert_exporter": "python",
   "pygments_lexer": "ipython3",
   "version": "3.8.3"
  }
 },
 "nbformat": 4,
 "nbformat_minor": 2
}
