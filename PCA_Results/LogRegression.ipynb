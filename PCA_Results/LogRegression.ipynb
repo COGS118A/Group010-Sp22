{
 "cells": [
  {
   "cell_type": "markdown",
   "metadata": {},
   "source": [
    "# Testing models"
   ]
  },
  {
   "cell_type": "code",
   "execution_count": 3,
   "metadata": {},
   "outputs": [],
   "source": [
    "# import pandas & numpy library\n",
    "import pandas as pd\n",
    "import numpy as np\n",
    "\n",
    "# imoprt seaborn & matplotlib\n",
    "import seaborn as sns\n",
    "import matplotlib.pyplot as plt\n",
    "\n",
    "# import KNN from sklearn\n",
    "from sklearn.neighbors import KDTree\n",
    "\n",
    "# shows a bigger plot size for readability \n",
    "plt.rcParams['figure.figsize'] = (12, 5)\n",
    "#improve resolution\n",
    "%config InlineBackend.figure_format ='retina'\n",
    "\n",
    "\n",
    "from sklearn.preprocessing import StandardScaler\n",
    "from sklearn.linear_model import LogisticRegression\n",
    "from sklearn.pipeline import Pipeline\n",
    "from sklearn.impute import SimpleImputer\n",
    "from sklearn.model_selection import GridSearchCV, train_test_split\n",
    "from sklearn.metrics import plot_confusion_matrix, f1_score, confusion_matrix"
   ]
  },
  {
   "cell_type": "code",
   "execution_count": 4,
   "metadata": {},
   "outputs": [
    {
     "name": "stderr",
     "output_type": "stream",
     "text": [
      "C:\\Users\\David Soberanis\\AppData\\Local\\Temp\\ipykernel_1516\\3079004086.py:2: DtypeWarning: Columns (11,18) have mixed types. Specify dtype option on import or set low_memory=False.\n",
      "  music = pd.read_csv('songDb.tsv', sep='\\t', encoding='ISO-8859-1')\n"
     ]
    }
   ],
   "source": [
    "# read 'songDb.tsv' into dataframe with correct encoding  \n",
    "music = pd.read_csv('songDb.tsv', sep='\\t', encoding='ISO-8859-1')"
   ]
  },
  {
   "cell_type": "markdown",
   "metadata": {},
   "source": [
    "# Cleaning and Filtering rows\n",
    "- gets rid of NaN values\n",
    "- removes all songs that are not in the top 5 genres\n",
    "- fixes indexing \n",
    "- fixes dtypes"
   ]
  },
  {
   "cell_type": "code",
   "execution_count": 5,
   "metadata": {
    "scrolled": false
   },
   "outputs": [],
   "source": [
    "df = music # for testing\n",
    "\n",
    "df = df.rename({'Genre':'genres'}, axis='columns') # rename to match \n",
    "df = df.dropna()\n",
    "\n",
    "# combines subgenres into more general Genres. This function removes all genres outside of the top 5.\n",
    "# You can alter this to include more than the top 5 genres\n",
    "def CombineGenre(str_in):\n",
    "\n",
    "    try:\n",
    "        str_in = str_in.lower()\n",
    "        str_in = str_in.strip()\n",
    "        \n",
    "        if 'rock' in str_in or 'prog' in str_in or 'gaze' in str_in or 'psych' in str_in:\n",
    "            output = 'Rock'\n",
    "        elif 'hip hop' in str_in or 'rap' in str_in or 'grime' in str_in or 'trap' in str_in:\n",
    "            output = 'Rap'\n",
    "        elif 'pop' in str_in:\n",
    "            output = 'Pop'\n",
    "        elif ('edm' in str_in or 'electronic' in str_in or 'house' in str_in or 'industrial' in str_in or 'glitch' in str_in \n",
    "                or 'idm' in str_in or 'techno' in str_in or 'garage' in str_in or 'reggeaton' in str_in or 'synth' in str_in \n",
    "                or 'dubstep' in str_in or 'trance' in str_in or 'wave' in str_in or 'electro' in str_in):\n",
    "            output = 'Electronic'\n",
    "        elif 'indie' in str_in:\n",
    "            output = 'Indie'\n",
    "        else:\n",
    "            output  = np.nan\n",
    "    except:\n",
    "        output = np.nan\n",
    "        \n",
    "    return output\n",
    "\n",
    "# applys above function to combine genres\n",
    "df['genres'] = df['genres'].apply(CombineGenre)\n",
    "df = df.dropna() # removes all genres that were not combined before \n",
    "df = df.reset_index() # resets the index since we removed many rows\n",
    "# df # shows now filtered df of music\n",
    "# df['genres'].value_counts() # shows number of songs in each top 5 genres\n"
   ]
  },
  {
   "cell_type": "code",
   "execution_count": 6,
   "metadata": {},
   "outputs": [],
   "source": [
    "feature_cols = ['Danceability', 'Energy', 'Key', 'Loudness', 'Mode',\n",
    "                'Speechness', 'Acousticness', 'Instrumentalness', 'Liveness', 'Valence',\n",
    "                'Tempo', 'Duration_ms', 'time_signature']\n",
    "\n",
    "df[feature_cols] = df[feature_cols].astype(np.float64)"
   ]
  },
  {
   "cell_type": "markdown",
   "metadata": {},
   "source": [
    "# Create Design Matrix and Target vectors from the now filtered Df "
   ]
  },
  {
   "cell_type": "code",
   "execution_count": 7,
   "metadata": {},
   "outputs": [
    {
     "name": "stdout",
     "output_type": "stream",
     "text": [
      "Feature cols: ['Danceability', 'Energy', 'Key', 'Loudness', 'Mode', 'Speechness', 'Acousticness', 'Instrumentalness', 'Liveness', 'Valence', 'Tempo', 'Duration_ms', 'time_signature']\n",
      "Target: genres\n"
     ]
    }
   ],
   "source": [
    "# Start by removing all columns that are not features \n",
    "\n",
    "feature_cols = ['Danceability', 'Energy', 'Key', 'Loudness', 'Mode',\n",
    "                'Speechness', 'Acousticness', 'Instrumentalness', 'Liveness', 'Valence',\n",
    "                'Tempo', 'Duration_ms', 'time_signature']\n",
    "target_col = 'genres'\n",
    "\n",
    "X = df[feature_cols]\n",
    "y = df[target_col]\n",
    "\n",
    "print(f'Feature cols: {feature_cols}')\n",
    "print(f'Target: {target_col}')"
   ]
  },
  {
   "cell_type": "markdown",
   "metadata": {},
   "source": [
    "### Train Test Split"
   ]
  },
  {
   "cell_type": "code",
   "execution_count": 8,
   "metadata": {
    "scrolled": false
   },
   "outputs": [
    {
     "name": "stdout",
     "output_type": "stream",
     "text": [
      "Training shape: (15588, 13)\n",
      "Testing shape: (36374, 13)\n"
     ]
    }
   ],
   "source": [
    "# Create train and test sets\n",
    "from sklearn.model_selection import train_test_split\n",
    "\n",
    "X_train, X_test, y_train, y_test = train_test_split(X, y, stratify=y, test_size=0.7, random_state=42)\n",
    "\n",
    "print(f'Training shape: {X_train.shape}')\n",
    "print(f'Testing shape: {X_test.shape}')"
   ]
  },
  {
   "cell_type": "markdown",
   "metadata": {},
   "source": [
    "# Model Tests"
   ]
  },
  {
   "cell_type": "markdown",
   "metadata": {},
   "source": [
    "### kNN test"
   ]
  },
  {
   "cell_type": "code",
   "execution_count": null,
   "metadata": {},
   "outputs": [],
   "source": [
    "%%time\n",
    "from sklearn.preprocessing import LabelEncoder\n",
    "from sklearn.neighbors import NeighborhoodComponentsAnalysis, KNeighborsClassifier\n",
    "from sklearn.pipeline import Pipeline\n",
    "from sklearn.compose import TransformedTargetRegressor\n",
    "\n",
    "# Label encoder for target (fitting it now to avoid unknown classes or different labels in testing)\n",
    "le = LabelEncoder().fit(df[target_col].unique())\n",
    "\n",
    "# KNN transformer and classifier\n",
    "nca = NeighborhoodComponentsAnalysis(random_state=42)\n",
    "knn = KNeighborsClassifier(n_neighbors=3, n_jobs = -1)\n",
    "\n",
    "# Pipelining\n",
    "nca_pipe = Pipeline([\n",
    "    ('nca', nca), \n",
    "    ('knn', knn)\n",
    "])\n",
    "\n",
    "# Fit\n",
    "nca_pipe.fit(X_train, le.transform(y_train))\n",
    "\n",
    "# Preliminary score\n",
    "print(nca_pipe.score(X_test, le.transform(y_test)))"
   ]
  },
  {
   "cell_type": "markdown",
   "metadata": {},
   "source": [
    "### SVM"
   ]
  },
  {
   "cell_type": "code",
   "execution_count": null,
   "metadata": {},
   "outputs": [],
   "source": [
    "# SVM code\n",
    "# from sklearn.svm import SVC # \"Support vector classifier\"\n",
    "# model = SVC(kernel='linear', C=1)\n",
    "# model.fit(X, y)"
   ]
  },
  {
   "cell_type": "code",
   "execution_count": null,
   "metadata": {},
   "outputs": [
    {
     "data": {
      "text/plain": [
       "0.35460528848004313"
      ]
     },
     "execution_count": 45,
     "metadata": {},
     "output_type": "execute_result"
    }
   ],
   "source": [
    "# model.score(X,y)"
   ]
  },
  {
   "cell_type": "code",
   "execution_count": null,
   "metadata": {},
   "outputs": [],
   "source": [
    "#from sklearn.model_selection import cross_val_score\n",
    "#cross_score = cross_val_score(model, X, y, cv=5)"
   ]
  },
  {
   "cell_type": "code",
   "execution_count": null,
   "metadata": {},
   "outputs": [
    {
     "data": {
      "text/plain": [
       "array([0.36255172, 0.33407101, 0.35459969, 0.34853734, 0.36046959])"
      ]
     },
     "execution_count": 46,
     "metadata": {},
     "output_type": "execute_result"
    }
   ],
   "source": [
    "#cross_score"
   ]
  },
  {
   "cell_type": "markdown",
   "metadata": {},
   "source": [
    "### Logistic Regression"
   ]
  },
  {
   "cell_type": "markdown",
   "metadata": {},
   "source": [
    "# PCA read in csv"
   ]
  },
  {
   "cell_type": "code",
   "execution_count": 23,
   "metadata": {},
   "outputs": [
    {
     "name": "stdout",
     "output_type": "stream",
     "text": [
      "(41569, 6) (10393, 2)\n"
     ]
    }
   ],
   "source": [
    "# Read in the different PCAs as dataframes for testing\n",
    "\n",
    "X_train_08 = pd.read_csv('X_train_0.8.csv')\n",
    "y_train_PCA = pd.read_csv('Y_train.csv')\n",
    "\n",
    "print(X_train_08.shape, y_train_PCA.shape)"
   ]
  },
  {
   "cell_type": "code",
   "execution_count": 20,
   "metadata": {},
   "outputs": [
    {
     "ename": "ValueError",
     "evalue": "Found input variables with inconsistent numbers of samples: [41569, 10393]",
     "output_type": "error",
     "traceback": [
      "\u001b[1;31m---------------------------------------------------------------------------\u001b[0m",
      "\u001b[1;31mValueError\u001b[0m                                Traceback (most recent call last)",
      "\u001b[1;32mc:\\Users\\David Soberanis\\Documents\\GitHub\\Group010-Sp22\\PCA_Results\\LogRegression.ipynb Cell 21'\u001b[0m in \u001b[0;36m<module>\u001b[1;34m\u001b[0m\n\u001b[0;32m     <a href='vscode-notebook-cell:/c%3A/Users/David%20Soberanis/Documents/GitHub/Group010-Sp22/PCA_Results/LogRegression.ipynb#ch0000020?line=37'>38</a>\u001b[0m gscv \u001b[39m=\u001b[39m GridSearchCV(pipe, param_grid, scoring \u001b[39m=\u001b[39m \u001b[39m'\u001b[39m\u001b[39mf1_micro\u001b[39m\u001b[39m'\u001b[39m, cv\u001b[39m=\u001b[39m\u001b[39m7\u001b[39m) \u001b[39m# GridSearchCV(...)\u001b[39;00m\n\u001b[0;32m     <a href='vscode-notebook-cell:/c%3A/Users/David%20Soberanis/Documents/GitHub/Group010-Sp22/PCA_Results/LogRegression.ipynb#ch0000020?line=39'>40</a>\u001b[0m \u001b[39m# YOUR CODE HERE\u001b[39;00m\n\u001b[0;32m     <a href='vscode-notebook-cell:/c%3A/Users/David%20Soberanis/Documents/GitHub/Group010-Sp22/PCA_Results/LogRegression.ipynb#ch0000020?line=40'>41</a>\u001b[0m \n\u001b[0;32m     <a href='vscode-notebook-cell:/c%3A/Users/David%20Soberanis/Documents/GitHub/Group010-Sp22/PCA_Results/LogRegression.ipynb#ch0000020?line=41'>42</a>\u001b[0m \n\u001b[0;32m     <a href='vscode-notebook-cell:/c%3A/Users/David%20Soberanis/Documents/GitHub/Group010-Sp22/PCA_Results/LogRegression.ipynb#ch0000020?line=42'>43</a>\u001b[0m \u001b[39m# gscv.fit(X_train, y_train)\u001b[39;00m\n\u001b[1;32m---> <a href='vscode-notebook-cell:/c%3A/Users/David%20Soberanis/Documents/GitHub/Group010-Sp22/PCA_Results/LogRegression.ipynb#ch0000020?line=43'>44</a>\u001b[0m gscv\u001b[39m.\u001b[39;49mfit(X_train_08, y_train_PCA)\n\u001b[0;32m     <a href='vscode-notebook-cell:/c%3A/Users/David%20Soberanis/Documents/GitHub/Group010-Sp22/PCA_Results/LogRegression.ipynb#ch0000020?line=45'>46</a>\u001b[0m plot_results(gscv)\n",
      "File \u001b[1;32mc:\\Python\\Python38\\lib\\site-packages\\sklearn\\model_selection\\_search.py:799\u001b[0m, in \u001b[0;36mBaseSearchCV.fit\u001b[1;34m(self, X, y, groups, **fit_params)\u001b[0m\n\u001b[0;32m    <a href='file:///c%3A/Python/Python38/lib/site-packages/sklearn/model_selection/_search.py?line=795'>796</a>\u001b[0m     \u001b[39mself\u001b[39m\u001b[39m.\u001b[39m_check_refit_for_multimetric(scorers)\n\u001b[0;32m    <a href='file:///c%3A/Python/Python38/lib/site-packages/sklearn/model_selection/_search.py?line=796'>797</a>\u001b[0m     refit_metric \u001b[39m=\u001b[39m \u001b[39mself\u001b[39m\u001b[39m.\u001b[39mrefit\n\u001b[1;32m--> <a href='file:///c%3A/Python/Python38/lib/site-packages/sklearn/model_selection/_search.py?line=798'>799</a>\u001b[0m X, y, groups \u001b[39m=\u001b[39m indexable(X, y, groups)\n\u001b[0;32m    <a href='file:///c%3A/Python/Python38/lib/site-packages/sklearn/model_selection/_search.py?line=799'>800</a>\u001b[0m fit_params \u001b[39m=\u001b[39m _check_fit_params(X, fit_params)\n\u001b[0;32m    <a href='file:///c%3A/Python/Python38/lib/site-packages/sklearn/model_selection/_search.py?line=801'>802</a>\u001b[0m cv_orig \u001b[39m=\u001b[39m check_cv(\u001b[39mself\u001b[39m\u001b[39m.\u001b[39mcv, y, classifier\u001b[39m=\u001b[39mis_classifier(estimator))\n",
      "File \u001b[1;32mc:\\Python\\Python38\\lib\\site-packages\\sklearn\\utils\\validation.py:378\u001b[0m, in \u001b[0;36mindexable\u001b[1;34m(*iterables)\u001b[0m\n\u001b[0;32m    <a href='file:///c%3A/Python/Python38/lib/site-packages/sklearn/utils/validation.py?line=358'>359</a>\u001b[0m \u001b[39m\"\"\"Make arrays indexable for cross-validation.\u001b[39;00m\n\u001b[0;32m    <a href='file:///c%3A/Python/Python38/lib/site-packages/sklearn/utils/validation.py?line=359'>360</a>\u001b[0m \n\u001b[0;32m    <a href='file:///c%3A/Python/Python38/lib/site-packages/sklearn/utils/validation.py?line=360'>361</a>\u001b[0m \u001b[39mChecks consistent length, passes through None, and ensures that everything\u001b[39;00m\n\u001b[1;32m   (...)\u001b[0m\n\u001b[0;32m    <a href='file:///c%3A/Python/Python38/lib/site-packages/sklearn/utils/validation.py?line=373'>374</a>\u001b[0m \u001b[39m    sparse matrix, or dataframe) or `None`.\u001b[39;00m\n\u001b[0;32m    <a href='file:///c%3A/Python/Python38/lib/site-packages/sklearn/utils/validation.py?line=374'>375</a>\u001b[0m \u001b[39m\"\"\"\u001b[39;00m\n\u001b[0;32m    <a href='file:///c%3A/Python/Python38/lib/site-packages/sklearn/utils/validation.py?line=376'>377</a>\u001b[0m result \u001b[39m=\u001b[39m [_make_indexable(X) \u001b[39mfor\u001b[39;00m X \u001b[39min\u001b[39;00m iterables]\n\u001b[1;32m--> <a href='file:///c%3A/Python/Python38/lib/site-packages/sklearn/utils/validation.py?line=377'>378</a>\u001b[0m check_consistent_length(\u001b[39m*\u001b[39;49mresult)\n\u001b[0;32m    <a href='file:///c%3A/Python/Python38/lib/site-packages/sklearn/utils/validation.py?line=378'>379</a>\u001b[0m \u001b[39mreturn\u001b[39;00m result\n",
      "File \u001b[1;32mc:\\Python\\Python38\\lib\\site-packages\\sklearn\\utils\\validation.py:332\u001b[0m, in \u001b[0;36mcheck_consistent_length\u001b[1;34m(*arrays)\u001b[0m\n\u001b[0;32m    <a href='file:///c%3A/Python/Python38/lib/site-packages/sklearn/utils/validation.py?line=329'>330</a>\u001b[0m uniques \u001b[39m=\u001b[39m np\u001b[39m.\u001b[39munique(lengths)\n\u001b[0;32m    <a href='file:///c%3A/Python/Python38/lib/site-packages/sklearn/utils/validation.py?line=330'>331</a>\u001b[0m \u001b[39mif\u001b[39;00m \u001b[39mlen\u001b[39m(uniques) \u001b[39m>\u001b[39m \u001b[39m1\u001b[39m:\n\u001b[1;32m--> <a href='file:///c%3A/Python/Python38/lib/site-packages/sklearn/utils/validation.py?line=331'>332</a>\u001b[0m     \u001b[39mraise\u001b[39;00m \u001b[39mValueError\u001b[39;00m(\n\u001b[0;32m    <a href='file:///c%3A/Python/Python38/lib/site-packages/sklearn/utils/validation.py?line=332'>333</a>\u001b[0m         \u001b[39m\"\u001b[39m\u001b[39mFound input variables with inconsistent numbers of samples: \u001b[39m\u001b[39m%r\u001b[39;00m\u001b[39m\"\u001b[39m\n\u001b[0;32m    <a href='file:///c%3A/Python/Python38/lib/site-packages/sklearn/utils/validation.py?line=333'>334</a>\u001b[0m         \u001b[39m%\u001b[39m [\u001b[39mint\u001b[39m(l) \u001b[39mfor\u001b[39;00m l \u001b[39min\u001b[39;00m lengths]\n\u001b[0;32m    <a href='file:///c%3A/Python/Python38/lib/site-packages/sklearn/utils/validation.py?line=334'>335</a>\u001b[0m     )\n",
      "\u001b[1;31mValueError\u001b[0m: Found input variables with inconsistent numbers of samples: [41569, 10393]"
     ]
    }
   ],
   "source": [
    "\n",
    "\n",
    "def plot_results(gridsearchcv):\n",
    "    params = gridsearchcv.cv_results_[\"params\"]\n",
    "    ys = gridsearchcv.cv_results_[\"mean_test_score\"]\n",
    "    xs = ['|'.join(str(v) for v in param.values()) for param in params]\n",
    "    yerr = gridsearchcv.cv_results_[\"std_test_score\"]\n",
    "    plt.errorbar(xs, ys, yerr / np.sqrt(gridsearchcv.cv), fmt='.k')\n",
    "    plt.ylabel(\"f1\")\n",
    "    plt.xlabel(\"params\")\n",
    "    \n",
    "def check_for_convergence(gridsearchcv):\n",
    "    return gridsearchcv.best_estimator_.steps[-1][1].n_iter_ < gridsearchcv.best_estimator_.steps[-1][1].max_iter\n",
    "\n",
    "\n",
    "np.random.seed(31415) \n",
    "\n",
    "scaler = StandardScaler()\n",
    "imp = SimpleImputer(missing_values=np.nan, strategy='mean')\n",
    "logistic = LogisticRegression() # first step\n",
    "\n",
    "# YOUR CODE HERE\n",
    "\n",
    "pipe = Pipeline(steps=[(\"scaler\", scaler), (\"imputer\", imp), (\"logistic\", logistic)])\n",
    "\n",
    "# you don't need to modify the max_iter param. If you do, keep it under 1000\n",
    "# hint, prefix your param names with logistic__ to pass it to the logistic step\n",
    "\n",
    "# this grid when passed to the gridsearch will make a logistic regression \n",
    "# if you add more to the param_grid you can compare differnt models and see their IQR\n",
    "param_grid = { \n",
    "    \"logistic__solver\" : ['liblinear'], # use one algo from here it needs to be l1 https://scikit-learn.org/stable/modules/generated/sklearn.linear_model.LogisticRegressionCV.html\n",
    "    \"logistic__penalty\" : ['l1'] # TA recommends using the l1 penalty \n",
    "}\n",
    "\n",
    "# YOUR CODE HERE\n",
    "\n",
    "# use f1_micro for scoring\n",
    "# use 7 folds\n",
    "gscv = GridSearchCV(pipe, param_grid, scoring = 'f1_micro', cv=7) # GridSearchCV(...)\n",
    "\n",
    "# YOUR CODE HERE\n",
    "\n",
    "\n",
    "# gscv.fit(X_train, y_train)\n",
    "gscv.fit(X_train_08, y_train_PCA)\n",
    "\n",
    "plot_results(gscv)\n"
   ]
  },
  {
   "cell_type": "code",
   "execution_count": null,
   "metadata": {},
   "outputs": [],
   "source": []
  }
 ],
 "metadata": {
  "interpreter": {
   "hash": "b081a66ee97bd2b6a16f43955f1d810b7ea816d6eaeb65e157ef9e038445f0c6"
  },
  "kernelspec": {
   "display_name": "Python 3 (ipykernel)",
   "language": "python",
   "name": "python3"
  },
  "language_info": {
   "codemirror_mode": {
    "name": "ipython",
    "version": 3
   },
   "file_extension": ".py",
   "mimetype": "text/x-python",
   "name": "python",
   "nbconvert_exporter": "python",
   "pygments_lexer": "ipython3",
   "version": "3.8.3"
  }
 },
 "nbformat": 4,
 "nbformat_minor": 2
}
