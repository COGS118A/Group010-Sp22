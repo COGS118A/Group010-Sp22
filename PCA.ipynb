{
 "cells": [
  {
   "cell_type": "code",
   "execution_count": 1,
   "metadata": {},
   "outputs": [
    {
     "name": "stderr",
     "output_type": "stream",
     "text": [
      "c:\\Users\\Ernest\\AppData\\Local\\Programs\\Python\\Python37\\lib\\site-packages\\IPython\\core\\interactiveshell.py:3258: DtypeWarning: Columns (11,18) have mixed types. Specify dtype option on import or set low_memory=False.\n",
      "  interactivity=interactivity, compiler=compiler, result=result)\n"
     ]
    }
   ],
   "source": [
    "import pandas as pd\n",
    "import numpy as np\n",
    "\n",
    "\n",
    "music = pd.read_csv('songDb.tsv', sep='\\t', encoding='ISO-8859-1')"
   ]
  },
  {
   "cell_type": "code",
   "execution_count": 2,
   "metadata": {},
   "outputs": [
    {
     "data": {
      "text/plain": [
       "Rock                    281\n",
       "Indie                   265\n",
       "Pop                     241\n",
       "Electronic              181\n",
       "Rap                     179\n",
       "                       ... \n",
       "rhythm game               1\n",
       "cosmic american           1\n",
       "british comedy            1\n",
       "mariachi                  1\n",
       "african experimental      1\n",
       "Name: genres, Length: 849, dtype: int64"
      ]
     },
     "execution_count": 2,
     "metadata": {},
     "output_type": "execute_result"
    }
   ],
   "source": [
    "# Grouping Genres \n",
    "\n",
    "base = \"genre_dataset.txt\"\n",
    "with open(base) as b:\n",
    "    lines = b.read().splitlines()\n",
    "split = np.array(lines)\n",
    "split[:10]\n",
    "df = pd.DataFrame(split, columns = ['genres'])\n",
    "df.loc[df['genres'].str.contains('rock')] = 'Rock'\n",
    "df.loc[df['genres'].str.contains('hip hop')] = 'Rap'\n",
    "df.loc[df['genres'].str.contains('country')] = 'Country'\n",
    "df.loc[df['genres'].str.contains('rap')] = 'Rap'\n",
    "df.loc[df['genres'].str.contains('r&b')] = 'R&B'\n",
    "df.loc[df['genres'].str.contains('folk')] = 'Folk'\n",
    "df.loc[df['genres'].str.contains('acoustic')] = 'Acoustic'\n",
    "df.loc[df['genres'].str.contains('core')] = 'Punk'\n",
    "df.loc[df['genres'].str.contains('jazz')] = 'Jazz'\n",
    "df.loc[df['genres'].str.contains('metal')] = 'Metal'\n",
    "df.loc[df['genres'].str.contains('edm')] = 'Electronic'\n",
    "df.loc[df['genres'].str.contains('electronic')] = 'Electronic'\n",
    "df.loc[df['genres'].str.contains('house')] = 'Electronic'\n",
    "df.loc[df['genres'].str.contains('industrial')] = 'Electronic'\n",
    "df.loc[df['genres'].str.contains('glitch')] = 'Electronic'\n",
    "df.loc[df['genres'].str.contains('idm')] = 'Electronic'\n",
    "df.loc[df['genres'].str.contains('techno')] = 'Electronic'\n",
    "df.loc[df['genres'].str.contains('garage')] = 'Electronic'\n",
    "df.loc[df['genres'].str.contains('reggeaton')] = 'Electronic'\n",
    "df.loc[df['genres'].str.contains('soul')] = 'Soul'\n",
    "df.loc[df['genres'].str.contains('pop')] = 'Pop'\n",
    "df.loc[df['genres'].str.contains('funk')] = 'Funk'\n",
    "df.loc[df['genres'].str.contains('reggae')] = 'reggae'\n",
    "df.loc[df['genres'].str.contains('punk')] = 'Punk'\n",
    "df.loc[df['genres'].str.contains('classical')] = 'Classical'\n",
    "df.loc[df['genres'].str.contains('indie')] = 'Indie'\n",
    "df.loc[df['genres'].str.contains('ambient')] = 'Ambient'\n",
    "df.loc[df['genres'].str.contains('grunge')] = 'Punk'\n",
    "df.loc[df['genres'].str.contains('gospel')] = 'Gospel'\n",
    "df.loc[df['genres'].str.contains('latin')] = 'Latin'\n",
    "df.loc[df['genres'].str.contains('grime')] = 'Rap'\n",
    "df.loc[df['genres'].str.contains('trap')] = 'Rap'\n",
    "df.loc[df['genres'].str.contains('americana')] = 'Folk'\n",
    "df.loc[df['genres'].str.contains('bluegrass')] = 'Blues'\n",
    "df.loc[df['genres'].str.contains('blues')] = 'Blues'\n",
    "df.loc[df['genres'].str.contains('roots')] = 'Blues'\n",
    "df.loc[df['genres'].str.contains('dance')] = 'Dance'\n",
    "df.loc[df['genres'].str.contains('children')] = 'Children'\n",
    "df.loc[df['genres'].str.contains('synth')] = 'Electronic'\n",
    "df.loc[df['genres'].str.contains('future')] = 'Dance'\n",
    "df.loc[df['genres'].str.contains('piano')] = 'Classical'\n",
    "df.loc[df['genres'].str.contains('funk')] = 'Funk'\n",
    "df.loc[df['genres'].str.contains('prog')] = 'Rock'\n",
    "df.loc[df['genres'].str.contains('death')] = 'Metal'\n",
    "df.loc[df['genres'].str.contains('gaze')] = 'Rock'\n",
    "df.loc[df['genres'].str.contains('sing')] = 'Vocals'\n",
    "df.loc[df['genres'].str.contains('dubstep')] = 'Electronic'\n",
    "df.loc[df['genres'].str.contains('psych')] = 'Rock'\n",
    "df.loc[df['genres'].str.contains('medieval')] = 'Folk'\n",
    "df.loc[df['genres'].str.contains('step')] = 'dance'\n",
    "df.loc[df['genres'].str.contains('choir')] = 'Vocals'\n",
    "df.loc[df['genres'].str.contains('emo')] = 'Punk'\n",
    "df.loc[df['genres'].str.contains('drone')] = 'Ambient'\n",
    "df.loc[df['genres'].str.contains('grind')] = 'Punk'\n",
    "df.loc[df['genres'].str.contains('cappella')] = 'Vocals'\n",
    "df.loc[df['genres'].str.contains('orchestra')] = 'Classical'\n",
    "df.loc[df['genres'].str.contains('trance')] = 'Electronic'\n",
    "df.loc[df['genres'].str.contains('thrash')] = 'Metal'\n",
    "df.loc[df['genres'].str.contains('alternative')] = 'Alternative'\n",
    "df.loc[df['genres'].str.contains('worship')] = 'Gospel'\n",
    "df.loc[df['genres'].str.contains('dubstep')] = 'Electronic'\n",
    "df.loc[df['genres'].str.contains('choir')] = 'Vocals'\n",
    "df.loc[df['genres'].str.contains('pipes')] = 'Classical'\n",
    "df.loc[df['genres'].str.contains('idol')] = 'pop'\n",
    "df.loc[df['genres'].str.contains('soundtrack')] = 'Film'\n",
    "df.loc[df['genres'].str.contains('film')] = 'Film'\n",
    "df.loc[df['genres'].str.contains('wave')] = 'Electronic'\n",
    "df.loc[df['genres'].str.contains('poetry')] = 'Spoken Word'\n",
    "df.loc[df['genres'].str.contains('spoken')] = 'Spoken Word'\n",
    "df.loc[df['genres'].str.contains('electro')] = 'Electronic'\n",
    "df.loc[df['genres'].str.contains('lo-fi')] = 'Alternative'\n",
    "df.loc[df['genres'].str.contains('ska')] = 'Ska'\n",
    "\n",
    "dropped = df.drop_duplicates()\n",
    "df['genres'].value_counts() # shows the top 5 genres by song count"
   ]
  },
  {
   "cell_type": "code",
   "execution_count": 5,
   "metadata": {},
   "outputs": [],
   "source": [
    "df = music \n",
    "\n",
    "df = df.rename({'Genre':'genres'}, axis='columns') # rename to match \n",
    "df = df.dropna()\n",
    "\n",
    "# combines subgenres into more general Genres. This function removes all genres outside of the top 5.\n",
    "# You can alter this to include more than the top 5 genres\n",
    "def CombineGenre(str_in):\n",
    "\n",
    "    try:\n",
    "        str_in = str_in.lower()\n",
    "        str_in = str_in.strip()\n",
    "        \n",
    "        if 'rock' in str_in or 'prog' in str_in or 'gaze' in str_in or 'psych' in str_in:\n",
    "            output = 'Rock'\n",
    "        elif 'hip hop' in str_in or 'rap' in str_in or 'grime' in str_in or 'trap' in str_in:\n",
    "            output = 'Rap'\n",
    "        elif 'pop' in str_in:\n",
    "            output = 'Pop'\n",
    "        elif ('edm' in str_in or 'electronic' in str_in or 'house' in str_in or 'industrial' in str_in or 'glitch' in str_in \n",
    "                or 'idm' in str_in or 'techno' in str_in or 'garage' in str_in or 'reggeaton' in str_in or 'synth' in str_in \n",
    "                or 'dubstep' in str_in or 'trance' in str_in or 'wave' in str_in or 'electro' in str_in):\n",
    "            output = 'Electronic'\n",
    "        elif 'indie' in str_in:\n",
    "            output = 'Indie'\n",
    "        else:\n",
    "            output  = np.nan\n",
    "    except:\n",
    "        output = np.nan\n",
    "        \n",
    "    return output\n",
    "\n",
    "# applys above function to combine genres\n",
    "df['genres'] = df['genres'].apply(CombineGenre)\n",
    "df = df.dropna() # removes all genres that were not combined before \n",
    "df = df.reset_index() # resets the index since we removed many rows\n",
    "# df # shows now filtered df of music\n",
    "# df['genres'].value_counts() # shows number of songs in each top 5 genres"
   ]
  },
  {
   "cell_type": "code",
   "execution_count": 6,
   "metadata": {},
   "outputs": [
    {
     "name": "stdout",
     "output_type": "stream",
     "text": [
      "Feature cols: ['Danceability', 'Energy', 'Key', 'Loudness', 'Mode', 'Speechness', 'Acousticness', 'Instrumentalness', 'Liveness', 'Valence', 'Tempo', 'Duration_ms', 'time_signature']\n",
      "Target: genres\n"
     ]
    }
   ],
   "source": [
    "feature_cols = ['Danceability', 'Energy', 'Key', 'Loudness', 'Mode',\n",
    "                'Speechness', 'Acousticness', 'Instrumentalness', 'Liveness', 'Valence',\n",
    "                'Tempo', 'Duration_ms', 'time_signature']\n",
    "target_col = 'genres'\n",
    "\n",
    "X = df[feature_cols]\n",
    "y = df[target_col]\n",
    "\n",
    "print(f'Feature cols: {feature_cols}')\n",
    "print(f'Target: {target_col}')"
   ]
  },
  {
   "cell_type": "code",
   "execution_count": 14,
   "metadata": {},
   "outputs": [
    {
     "name": "stdout",
     "output_type": "stream",
     "text": [
      "Training shape: (41569, 13)\n",
      "Testing shape: (10393, 13)\n"
     ]
    }
   ],
   "source": [
    "# Create train and test sets\n",
    "from sklearn.model_selection import train_test_split\n",
    "\n",
    "X_train, X_test, y_train, y_test = train_test_split(X, y, stratify=y, test_size=0.2, random_state=42)\n",
    "\n",
    "print(f'Training shape: {X_train.shape}')\n",
    "print(f'Testing shape: {X_test.shape}')"
   ]
  },
  {
   "cell_type": "code",
   "execution_count": 25,
   "metadata": {},
   "outputs": [],
   "source": [
    "from sklearn.preprocessing import MinMaxScaler\n",
    "from sklearn.decomposition import PCA\n",
    "\n",
    "#Must scale data from 0 to 1 before PCA\n",
    "scaler = MinMaxScaler()\n",
    "X_train_scaled = scaler.fit_transform(X_train)\n",
    "X_test_scaled = scaler.fit_transform(X_test)\n",
    "\n",
    "def make_pca_csv(variance):\n",
    "    pca = PCA(n_components=variance)\n",
    "    X_train_pca = pca.fit(X_train_scaled).transform(X_train_scaled)\n",
    "    X_test_pca = pca.fit(X_test_scaled).transform(X_test_scaled)\n",
    "    #Saves pca'd dataset as csv\n",
    "    np.savetxt(f\"PCA_Results/X_train_{variance}.csv\", X_train_pca, delimiter=\",\")\n",
    "    np.savetxt(f\"PCA_Results/X_test_{variance}\", X_test_pca, delimiter=\",\")\n",
    "\n",
    "\n",
    "#Make three datasets with different variances\n",
    "variances = [0.8, 0.90, 0.95]\n",
    "for v in variances:\n",
    "    make_pca_csv(v)"
   ]
  }
 ],
 "metadata": {
  "interpreter": {
   "hash": "1ec821e714b542936dabda291110fd063f93dabb1fadacfe390f21ef751f6138"
  },
  "kernelspec": {
   "display_name": "Python 3.7.4 64-bit",
   "language": "python",
   "name": "python3"
  },
  "language_info": {
   "codemirror_mode": {
    "name": "ipython",
    "version": 3
   },
   "file_extension": ".py",
   "mimetype": "text/x-python",
   "name": "python",
   "nbconvert_exporter": "python",
   "pygments_lexer": "ipython3",
   "version": "3.7.4"
  },
  "orig_nbformat": 4
 },
 "nbformat": 4,
 "nbformat_minor": 2
}
